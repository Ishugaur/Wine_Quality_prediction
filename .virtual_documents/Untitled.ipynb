


import pandas as pd
import numpy as np
import seaborn as sns
import matplotlib.pyplot as plt
%matplotlib inline

from sklearn.model_selection import train_test_split, cross_val_score
from sklearn.ensemble import RandomForestClassifier, ExtraTreesClassifier
from sklearn.tree import DecisionTreeClassifier

from sklearn import metrics
from sklearn.metrics import confusion_matrix, accuracy_score, recall_score, precision_score, f1_score
from sklearn.preprocessing import StandardScaler, LabelEncoder

import warnings
warnings.filterwarnings("ignore")





df = pd.read_csv('winequality-red.csv')





df.head()


df.tail()


df.shape


df.info()


df.isnull().sum()


df.describe()


df['quality'].value_counts()





plt.figure(figsize=(10,8.5))
sns.countplot(df['quality'])
plt.xticks(rotation='vertical',size=15)
plt.show()


plt.figure(figsize=(15,12))
sns.heatmap(df.corr(),annot=True)
plt.show()


plt.figure(figsize=(15,12))
sns.boxplot(x=df['quality'],data=df)
plt.show()


plt.figure(figsize=(15,12))
sns.boxplot(x=df['alcohol'],data=df)
plt.show()


plt.figure(figsize=(15,12))
sns.boxplot(x=df['sulphates'],data=df)
plt.show()


plt.figure(figsize=(15,12))
sns.boxplot(x=df['pH'],data=df)
plt.show()


plt.figure(figsize=(15,12))
sns.boxplot(x=df['density'],data=df)
plt.show()


plt.figure(figsize=(15,12))
sns.boxplot(x=df['total sulfur dioxide'],data=df)
plt.show()


plt.figure(figsize=(15,12))
sns.boxplot(x=df['free sulfur dioxide'],data=df)
plt.show()


plt.figure(figsize=(15,12))
sns.boxplot(x=df['chlorides'],data=df)
plt.show()


plt.figure(figsize=(15,12))
sns.boxplot(x=df['residual sugar'],data=df)
plt.show()


plt.figure(figsize=(15,12))
sns.boxplot(x=df['citric acid'],data=df)
plt.show()


plt.figure(figsize=(15,12))
sns.boxplot(x=df['volatile acidity'],data=df)
plt.show()


plt.figure(figsize=(15,12))
sns.boxplot(x=df['fixed acidity'],data=df)
plt.show()


sns.pairplot(df)


# create x
x = df.drop(['quality'],axis=1)
# create y
y = df['quality']


from imblearn.over_sampling import SMOTE


os=SMOTE()
x_res,y_res = os.fit_resample(x,y)


x_train, x_test, y_train, y_test = train_test_split(x_res,y_res, test_size=0.2, random_state=0)


sc = StandardScaler()
x_train = sc.fit_transform(x_train)
x_test = sc.transform(x_test)


model = DecisionTreeClassifier(random_state=0,criterion='entropy',max_depth=None)


model.fit(x_train,y_train)


pred = model.predict(x_test)


df_predict = pd.DataFrame({'Actual': y_test, 'Predicted': pred})
df_predict.head(10)


acc_per = accuracy_score(y_test,pred)


print('Model Accuracy : '+ str(round(acc_per*100))+'%')


model2 = RandomForestClassifier(n_estimators=120,random_state=0)


model2.fit(x_train,y_train)


pred2 = model2.predict(x_test)


df_predict2 = pd.DataFrame({'Actual': y_test, 'Predicted': pred2})
df_predict2.head(10)


acc_per2 = accuracy_score(y_test,pred2)


print('Model Accuracy : '+ str(round(acc_per2*100,4)))


cross_validation = cross_val_score(model2,x_res,y_res,cv=5)
print('Cross validations mean score ',round(np.mean(cross_validation)*100,4))


print("Recall Score :",recall_score(y_test, pred2, average='weighted'))
print("Percision Score :",precision_score(y_test, pred2, average='weighted'))
print("F1 Score :",f1_score(y_test, pred2, average='weighted'))


model3 = ExtraTreesClassifier(n_estimators=124,random_state=0)
model3.fit(x_train,y_train)


pred3 = model3.predict(x_test)


df_predict3 = pd.DataFrame({'Actual': y_test, 'Predicted': pred3})
df_predict3.head(10)


acc_per3 = accuracy_score(y_test,pred3)
print('Model Accuracy : '+ str(round(acc_per3*100,4)))


cross_validation2 = cross_val_score(model3,x_res,y_res,cv=5)
print('Cross validations mean score ',round(np.mean(cross_validation2)*100,4))



